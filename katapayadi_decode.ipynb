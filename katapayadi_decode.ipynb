{
 "cells": [
  {
   "cell_type": "code",
   "execution_count": 1,
   "id": "08c2c99f",
   "metadata": {},
   "outputs": [],
   "source": [
    "# https://groups.google.com/g/sanskrit-programmers/c/N7B_mbhe68M/m/VDwyNxCZAAAJ\n",
    "# https://sanskrit.iitk.ac.in/jnanasangraha/sankhya/katapayaadi/decode/sa/"
   ]
  },
  {
   "cell_type": "code",
   "execution_count": 2,
   "id": "20bca007",
   "metadata": {},
   "outputs": [],
   "source": [
    "line_one = ['क', 'ख', 'ग', 'घ', 'ङ',  'च', 'छ', 'ज', 'झ', 'ञ']\n",
    "line_to = ['ट', 'ठ', 'ड', 'ढ', 'ण', 'त', 'थ', 'द', 'ध', 'न']\n",
    "line_three = ['प', 'फ', 'ब', 'भ', 'म']\n",
    "line_four = ['य', 'र', 'ल', 'व', 'श', 'ष', 'स', 'ह', 'ळ']"
   ]
  },
  {
   "cell_type": "code",
   "execution_count": 3,
   "id": "516da239",
   "metadata": {},
   "outputs": [],
   "source": [
    "mydict = dict()\n",
    "for mylist in [line_one, line_to, line_three, line_four]:\n",
    "    for k,v in enumerate(mylist, start=1):\n",
    "        mydict[v] = k"
   ]
  },
  {
   "cell_type": "code",
   "execution_count": 4,
   "id": "04e998af",
   "metadata": {},
   "outputs": [],
   "source": [
    "mydict['ञ'] = 0\n",
    "mydict['न'] = 0"
   ]
  },
  {
   "cell_type": "code",
   "execution_count": 5,
   "id": "e97bac68",
   "metadata": {},
   "outputs": [],
   "source": [
    "mystring = 'भद्राम्बुद्धिसिद्धजन्मगणितश्रद्धा स्म यद् भूपगी: '\n",
    "svar = ['ा', 'ि', 'ी', 'ु', 'ू', 'े', 'ै', 'ो', 'ौ', 'ं', 'ः',  ' ृ', ' ॄ',  'ऽ']\n",
    "halant = '्'"
   ]
  },
  {
   "cell_type": "code",
   "execution_count": 6,
   "id": "72e6a1e6",
   "metadata": {},
   "outputs": [],
   "source": [
    "for i in svar:\n",
    "    mystring = mystring.replace(i, '')"
   ]
  },
  {
   "cell_type": "code",
   "execution_count": 7,
   "id": "b3c2fdb6",
   "metadata": {},
   "outputs": [],
   "source": [
    "for i in range(mystring.count(halant)):\n",
    "    pos = mystring.find(halant)\n",
    "    mystring = mystring[:pos-1] + mystring[pos+1:]"
   ]
  },
  {
   "cell_type": "code",
   "execution_count": 8,
   "id": "10b34810",
   "metadata": {},
   "outputs": [],
   "source": [
    "nstring = ''\n",
    "for i in mystring:\n",
    "    try:\n",
    "        nstring = nstring + str(mydict[i])\n",
    "    except:\n",
    "        pass"
   ]
  },
  {
   "cell_type": "code",
   "execution_count": 9,
   "id": "eaa754f8",
   "metadata": {},
   "outputs": [
    {
     "data": {
      "text/plain": [
       "'314159265358979324'"
      ]
     },
     "execution_count": 9,
     "metadata": {},
     "output_type": "execute_result"
    }
   ],
   "source": [
    "nstring[::-1]"
   ]
  }
 ],
 "metadata": {
  "kernelspec": {
   "display_name": "Python 3 (ipykernel)",
   "language": "python",
   "name": "python3"
  },
  "language_info": {
   "codemirror_mode": {
    "name": "ipython",
    "version": 3
   },
   "file_extension": ".py",
   "mimetype": "text/x-python",
   "name": "python",
   "nbconvert_exporter": "python",
   "pygments_lexer": "ipython3",
   "version": "3.10.12"
  }
 },
 "nbformat": 4,
 "nbformat_minor": 5
}
